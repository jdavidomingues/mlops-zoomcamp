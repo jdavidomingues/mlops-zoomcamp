{
 "cells": [
  {
   "cell_type": "markdown",
   "source": [
    "# Homework 1 - Ride Duration Prediciton"
   ],
   "metadata": {
    "collapsed": false
   }
  },
  {
   "cell_type": "markdown",
   "source": [
    "## Imports"
   ],
   "metadata": {
    "collapsed": false
   }
  },
  {
   "cell_type": "code",
   "execution_count": 1,
   "outputs": [],
   "source": [
    "import math\n",
    "\n",
    "import pandas as pd\n",
    "import seaborn as sns\n",
    "from sklearn.feature_extraction import DictVectorizer\n",
    "from sklearn.linear_model import LinearRegression\n",
    "from sklearn.metrics import mean_squared_error"
   ],
   "metadata": {
    "collapsed": false,
    "ExecuteTime": {
     "end_time": "2023-05-15T19:45:35.281835Z",
     "start_time": "2023-05-15T19:45:35.174869Z"
    }
   }
  },
  {
   "cell_type": "markdown",
   "source": [
    "## Q1 - Read the data for January. How many columns are there?"
   ],
   "metadata": {
    "collapsed": false
   }
  },
  {
   "cell_type": "code",
   "execution_count": 2,
   "outputs": [
    {
     "name": "stdout",
     "output_type": "stream",
     "text": [
      "Shape of the dataset\n",
      "Samples: 2463931\n",
      "Columns: 19\n"
     ]
    }
   ],
   "source": [
    "yellow_january_2022_rides = pd.read_parquet(\"./data/yellow_tripdata_2022-01.parquet\")\n",
    "print(f'Shape of the dataset\\nSamples: {yellow_january_2022_rides.shape[0]}\\nColumns: {yellow_january_2022_rides.shape[1]}')"
   ],
   "metadata": {
    "collapsed": false,
    "ExecuteTime": {
     "end_time": "2023-05-15T19:45:35.408061Z",
     "start_time": "2023-05-15T19:45:35.282652Z"
    }
   }
  },
  {
   "cell_type": "markdown",
   "source": [
    "## Q2 - What's the standard deviation of the trips duration in January?"
   ],
   "metadata": {
    "collapsed": false
   }
  },
  {
   "cell_type": "code",
   "execution_count": 3,
   "outputs": [
    {
     "data": {
      "text/plain": "   VendorID tpep_pickup_datetime tpep_dropoff_datetime  passenger_count   \n0         1  2022-01-01 00:35:40   2022-01-01 00:53:29              2.0  \\\n1         1  2022-01-01 00:33:43   2022-01-01 00:42:07              1.0   \n2         2  2022-01-01 00:53:21   2022-01-01 01:02:19              1.0   \n3         2  2022-01-01 00:25:21   2022-01-01 00:35:23              1.0   \n4         2  2022-01-01 00:36:48   2022-01-01 01:14:20              1.0   \n\n   trip_distance  RatecodeID store_and_fwd_flag  PULocationID  DOLocationID   \n0           3.80         1.0                  N           142           236  \\\n1           2.10         1.0                  N           236            42   \n2           0.97         1.0                  N           166           166   \n3           1.09         1.0                  N           114            68   \n4           4.30         1.0                  N            68           163   \n\n   payment_type  fare_amount  extra  mta_tax  tip_amount  tolls_amount   \n0             1         14.5    3.0      0.5        3.65           0.0  \\\n1             1          8.0    0.5      0.5        4.00           0.0   \n2             1          7.5    0.5      0.5        1.76           0.0   \n3             2          8.0    0.5      0.5        0.00           0.0   \n4             1         23.5    0.5      0.5        3.00           0.0   \n\n   improvement_surcharge  total_amount  congestion_surcharge  airport_fee  \n0                    0.3         21.95                   2.5          0.0  \n1                    0.3         13.30                   0.0          0.0  \n2                    0.3         10.56                   0.0          0.0  \n3                    0.3         11.80                   2.5          0.0  \n4                    0.3         30.30                   2.5          0.0  ",
      "text/html": "<div>\n<style scoped>\n    .dataframe tbody tr th:only-of-type {\n        vertical-align: middle;\n    }\n\n    .dataframe tbody tr th {\n        vertical-align: top;\n    }\n\n    .dataframe thead th {\n        text-align: right;\n    }\n</style>\n<table border=\"1\" class=\"dataframe\">\n  <thead>\n    <tr style=\"text-align: right;\">\n      <th></th>\n      <th>VendorID</th>\n      <th>tpep_pickup_datetime</th>\n      <th>tpep_dropoff_datetime</th>\n      <th>passenger_count</th>\n      <th>trip_distance</th>\n      <th>RatecodeID</th>\n      <th>store_and_fwd_flag</th>\n      <th>PULocationID</th>\n      <th>DOLocationID</th>\n      <th>payment_type</th>\n      <th>fare_amount</th>\n      <th>extra</th>\n      <th>mta_tax</th>\n      <th>tip_amount</th>\n      <th>tolls_amount</th>\n      <th>improvement_surcharge</th>\n      <th>total_amount</th>\n      <th>congestion_surcharge</th>\n      <th>airport_fee</th>\n    </tr>\n  </thead>\n  <tbody>\n    <tr>\n      <th>0</th>\n      <td>1</td>\n      <td>2022-01-01 00:35:40</td>\n      <td>2022-01-01 00:53:29</td>\n      <td>2.0</td>\n      <td>3.80</td>\n      <td>1.0</td>\n      <td>N</td>\n      <td>142</td>\n      <td>236</td>\n      <td>1</td>\n      <td>14.5</td>\n      <td>3.0</td>\n      <td>0.5</td>\n      <td>3.65</td>\n      <td>0.0</td>\n      <td>0.3</td>\n      <td>21.95</td>\n      <td>2.5</td>\n      <td>0.0</td>\n    </tr>\n    <tr>\n      <th>1</th>\n      <td>1</td>\n      <td>2022-01-01 00:33:43</td>\n      <td>2022-01-01 00:42:07</td>\n      <td>1.0</td>\n      <td>2.10</td>\n      <td>1.0</td>\n      <td>N</td>\n      <td>236</td>\n      <td>42</td>\n      <td>1</td>\n      <td>8.0</td>\n      <td>0.5</td>\n      <td>0.5</td>\n      <td>4.00</td>\n      <td>0.0</td>\n      <td>0.3</td>\n      <td>13.30</td>\n      <td>0.0</td>\n      <td>0.0</td>\n    </tr>\n    <tr>\n      <th>2</th>\n      <td>2</td>\n      <td>2022-01-01 00:53:21</td>\n      <td>2022-01-01 01:02:19</td>\n      <td>1.0</td>\n      <td>0.97</td>\n      <td>1.0</td>\n      <td>N</td>\n      <td>166</td>\n      <td>166</td>\n      <td>1</td>\n      <td>7.5</td>\n      <td>0.5</td>\n      <td>0.5</td>\n      <td>1.76</td>\n      <td>0.0</td>\n      <td>0.3</td>\n      <td>10.56</td>\n      <td>0.0</td>\n      <td>0.0</td>\n    </tr>\n    <tr>\n      <th>3</th>\n      <td>2</td>\n      <td>2022-01-01 00:25:21</td>\n      <td>2022-01-01 00:35:23</td>\n      <td>1.0</td>\n      <td>1.09</td>\n      <td>1.0</td>\n      <td>N</td>\n      <td>114</td>\n      <td>68</td>\n      <td>2</td>\n      <td>8.0</td>\n      <td>0.5</td>\n      <td>0.5</td>\n      <td>0.00</td>\n      <td>0.0</td>\n      <td>0.3</td>\n      <td>11.80</td>\n      <td>2.5</td>\n      <td>0.0</td>\n    </tr>\n    <tr>\n      <th>4</th>\n      <td>2</td>\n      <td>2022-01-01 00:36:48</td>\n      <td>2022-01-01 01:14:20</td>\n      <td>1.0</td>\n      <td>4.30</td>\n      <td>1.0</td>\n      <td>N</td>\n      <td>68</td>\n      <td>163</td>\n      <td>1</td>\n      <td>23.5</td>\n      <td>0.5</td>\n      <td>0.5</td>\n      <td>3.00</td>\n      <td>0.0</td>\n      <td>0.3</td>\n      <td>30.30</td>\n      <td>2.5</td>\n      <td>0.0</td>\n    </tr>\n  </tbody>\n</table>\n</div>"
     },
     "execution_count": 3,
     "metadata": {},
     "output_type": "execute_result"
    }
   ],
   "source": [
    "# Check the data we have\n",
    "yellow_january_2022_rides.head()"
   ],
   "metadata": {
    "collapsed": false,
    "ExecuteTime": {
     "end_time": "2023-05-15T19:45:35.420220Z",
     "start_time": "2023-05-15T19:45:35.411456Z"
    }
   }
  },
  {
   "cell_type": "code",
   "execution_count": 4,
   "outputs": [
    {
     "data": {
      "text/plain": "   VendorID tpep_pickup_datetime tpep_dropoff_datetime  passenger_count   \n0         1  2022-01-01 00:35:40   2022-01-01 00:53:29              2.0  \\\n1         1  2022-01-01 00:33:43   2022-01-01 00:42:07              1.0   \n2         2  2022-01-01 00:53:21   2022-01-01 01:02:19              1.0   \n3         2  2022-01-01 00:25:21   2022-01-01 00:35:23              1.0   \n4         2  2022-01-01 00:36:48   2022-01-01 01:14:20              1.0   \n\n   trip_distance  RatecodeID store_and_fwd_flag  PULocationID  DOLocationID   \n0           3.80         1.0                  N           142           236  \\\n1           2.10         1.0                  N           236            42   \n2           0.97         1.0                  N           166           166   \n3           1.09         1.0                  N           114            68   \n4           4.30         1.0                  N            68           163   \n\n   payment_type  fare_amount  extra  mta_tax  tip_amount  tolls_amount   \n0             1         14.5    3.0      0.5        3.65           0.0  \\\n1             1          8.0    0.5      0.5        4.00           0.0   \n2             1          7.5    0.5      0.5        1.76           0.0   \n3             2          8.0    0.5      0.5        0.00           0.0   \n4             1         23.5    0.5      0.5        3.00           0.0   \n\n   improvement_surcharge  total_amount  congestion_surcharge  airport_fee   \n0                    0.3         21.95                   2.5          0.0  \\\n1                    0.3         13.30                   0.0          0.0   \n2                    0.3         10.56                   0.0          0.0   \n3                    0.3         11.80                   2.5          0.0   \n4                    0.3         30.30                   2.5          0.0   \n\n   ride_duration  \n0      17.816667  \n1       8.400000  \n2       8.966667  \n3      10.033333  \n4      37.533333  ",
      "text/html": "<div>\n<style scoped>\n    .dataframe tbody tr th:only-of-type {\n        vertical-align: middle;\n    }\n\n    .dataframe tbody tr th {\n        vertical-align: top;\n    }\n\n    .dataframe thead th {\n        text-align: right;\n    }\n</style>\n<table border=\"1\" class=\"dataframe\">\n  <thead>\n    <tr style=\"text-align: right;\">\n      <th></th>\n      <th>VendorID</th>\n      <th>tpep_pickup_datetime</th>\n      <th>tpep_dropoff_datetime</th>\n      <th>passenger_count</th>\n      <th>trip_distance</th>\n      <th>RatecodeID</th>\n      <th>store_and_fwd_flag</th>\n      <th>PULocationID</th>\n      <th>DOLocationID</th>\n      <th>payment_type</th>\n      <th>fare_amount</th>\n      <th>extra</th>\n      <th>mta_tax</th>\n      <th>tip_amount</th>\n      <th>tolls_amount</th>\n      <th>improvement_surcharge</th>\n      <th>total_amount</th>\n      <th>congestion_surcharge</th>\n      <th>airport_fee</th>\n      <th>ride_duration</th>\n    </tr>\n  </thead>\n  <tbody>\n    <tr>\n      <th>0</th>\n      <td>1</td>\n      <td>2022-01-01 00:35:40</td>\n      <td>2022-01-01 00:53:29</td>\n      <td>2.0</td>\n      <td>3.80</td>\n      <td>1.0</td>\n      <td>N</td>\n      <td>142</td>\n      <td>236</td>\n      <td>1</td>\n      <td>14.5</td>\n      <td>3.0</td>\n      <td>0.5</td>\n      <td>3.65</td>\n      <td>0.0</td>\n      <td>0.3</td>\n      <td>21.95</td>\n      <td>2.5</td>\n      <td>0.0</td>\n      <td>17.816667</td>\n    </tr>\n    <tr>\n      <th>1</th>\n      <td>1</td>\n      <td>2022-01-01 00:33:43</td>\n      <td>2022-01-01 00:42:07</td>\n      <td>1.0</td>\n      <td>2.10</td>\n      <td>1.0</td>\n      <td>N</td>\n      <td>236</td>\n      <td>42</td>\n      <td>1</td>\n      <td>8.0</td>\n      <td>0.5</td>\n      <td>0.5</td>\n      <td>4.00</td>\n      <td>0.0</td>\n      <td>0.3</td>\n      <td>13.30</td>\n      <td>0.0</td>\n      <td>0.0</td>\n      <td>8.400000</td>\n    </tr>\n    <tr>\n      <th>2</th>\n      <td>2</td>\n      <td>2022-01-01 00:53:21</td>\n      <td>2022-01-01 01:02:19</td>\n      <td>1.0</td>\n      <td>0.97</td>\n      <td>1.0</td>\n      <td>N</td>\n      <td>166</td>\n      <td>166</td>\n      <td>1</td>\n      <td>7.5</td>\n      <td>0.5</td>\n      <td>0.5</td>\n      <td>1.76</td>\n      <td>0.0</td>\n      <td>0.3</td>\n      <td>10.56</td>\n      <td>0.0</td>\n      <td>0.0</td>\n      <td>8.966667</td>\n    </tr>\n    <tr>\n      <th>3</th>\n      <td>2</td>\n      <td>2022-01-01 00:25:21</td>\n      <td>2022-01-01 00:35:23</td>\n      <td>1.0</td>\n      <td>1.09</td>\n      <td>1.0</td>\n      <td>N</td>\n      <td>114</td>\n      <td>68</td>\n      <td>2</td>\n      <td>8.0</td>\n      <td>0.5</td>\n      <td>0.5</td>\n      <td>0.00</td>\n      <td>0.0</td>\n      <td>0.3</td>\n      <td>11.80</td>\n      <td>2.5</td>\n      <td>0.0</td>\n      <td>10.033333</td>\n    </tr>\n    <tr>\n      <th>4</th>\n      <td>2</td>\n      <td>2022-01-01 00:36:48</td>\n      <td>2022-01-01 01:14:20</td>\n      <td>1.0</td>\n      <td>4.30</td>\n      <td>1.0</td>\n      <td>N</td>\n      <td>68</td>\n      <td>163</td>\n      <td>1</td>\n      <td>23.5</td>\n      <td>0.5</td>\n      <td>0.5</td>\n      <td>3.00</td>\n      <td>0.0</td>\n      <td>0.3</td>\n      <td>30.30</td>\n      <td>2.5</td>\n      <td>0.0</td>\n      <td>37.533333</td>\n    </tr>\n  </tbody>\n</table>\n</div>"
     },
     "execution_count": 4,
     "metadata": {},
     "output_type": "execute_result"
    }
   ],
   "source": [
    "# Create the ride duration column\n",
    "yellow_january_2022_rides['ride_duration'] = yellow_january_2022_rides.tpep_dropoff_datetime - yellow_january_2022_rides.tpep_pickup_datetime\n",
    "yellow_january_2022_rides['ride_duration'] = yellow_january_2022_rides['ride_duration'].apply(lambda duration: duration.total_seconds()/60)\n",
    "yellow_january_2022_rides.head()"
   ],
   "metadata": {
    "collapsed": false,
    "ExecuteTime": {
     "end_time": "2023-05-15T19:45:38.021736Z",
     "start_time": "2023-05-15T19:45:35.420810Z"
    }
   }
  },
  {
   "cell_type": "code",
   "execution_count": 5,
   "outputs": [
    {
     "name": "stdout",
     "output_type": "stream",
     "text": [
      "Standard deviation of ride duration: 46.44530513776499\n"
     ]
    }
   ],
   "source": [
    "# Compute the standard deviation\n",
    "print(f'Standard deviation of ride duration: {yellow_january_2022_rides.ride_duration.std()}')"
   ],
   "metadata": {
    "collapsed": false,
    "ExecuteTime": {
     "end_time": "2023-05-15T19:45:38.032174Z",
     "start_time": "2023-05-15T19:45:38.022583Z"
    }
   }
  },
  {
   "cell_type": "markdown",
   "source": [
    "## Q3 - What fraction of the records left after you dropped the outliers (< 1 minute && > 60 minutes)?"
   ],
   "metadata": {
    "collapsed": false
   }
  },
  {
   "cell_type": "code",
   "execution_count": 6,
   "outputs": [
    {
     "data": {
      "text/plain": "<seaborn.axisgrid.FacetGrid at 0x1491ba9b0>"
     },
     "execution_count": 6,
     "metadata": {},
     "output_type": "execute_result"
    },
    {
     "data": {
      "text/plain": "<Figure size 500x500 with 1 Axes>",
      "image/png": "[encoded data removed]"
     },
     "metadata": {},
     "output_type": "display_data"
    }
   ],
   "source": [
    "# Plot seaborn distribution\n",
    "sns.displot(yellow_january_2022_rides.ride_duration)"
   ],
   "metadata": {
    "collapsed": false,
    "ExecuteTime": {
     "end_time": "2023-05-15T19:46:14.289606Z",
     "start_time": "2023-05-15T19:45:38.033209Z"
    }
   }
  },
  {
   "cell_type": "code",
   "execution_count": 7,
   "outputs": [
    {
     "name": "stdout",
     "output_type": "stream",
     "text": [
      "Original dataset shape: (2463931, 20)\n",
      "Outlier free dataset shape: (2421440, 20)\n",
      "We kept 98.27547930522405% of data\n"
     ]
    }
   ],
   "source": [
    "# Drop the outliers & register the shape to assert the fraction\n",
    "original_shape = yellow_january_2022_rides.shape\n",
    "yellow_january_2022_rides = yellow_january_2022_rides[(yellow_january_2022_rides.ride_duration >= 1) & (yellow_january_2022_rides.ride_duration <= 60)]\n",
    "outliers_free_shape = yellow_january_2022_rides.shape\n",
    "print(f'Original dataset shape: {original_shape}\\nOutlier free dataset shape: {outliers_free_shape}')\n",
    "print(f'We kept {outliers_free_shape[0]*100/original_shape[0]}% of data')"
   ],
   "metadata": {
    "collapsed": false,
    "ExecuteTime": {
     "end_time": "2023-05-15T19:46:14.401532Z",
     "start_time": "2023-05-15T19:46:14.292456Z"
    }
   }
  },
  {
   "cell_type": "markdown",
   "source": [
    "## Q4 - What's the dimensionality of the matrix (number of columns)?\n",
    "\n",
    "Let's apply one-hot encoding to the pickup and dropoff location IDs. We'll use only these two features for our model.\n",
    "\n",
    "- Turn the dataframe into a list of dictionaries\n",
    "- Fit a dictionary vectorizer\n",
    "- Get a feature matrix from it"
   ],
   "metadata": {
    "collapsed": false
   }
  },
  {
   "cell_type": "code",
   "execution_count": 8,
   "outputs": [],
   "source": [
    "# Features to use\n",
    "model_features = ['PULocationID', 'DOLocationID']\n",
    "yellow_january_2022_rides[model_features] = yellow_january_2022_rides[model_features].astype(str)"
   ],
   "metadata": {
    "collapsed": false,
    "ExecuteTime": {
     "end_time": "2023-05-15T19:46:15.203409Z",
     "start_time": "2023-05-15T19:46:15.171343Z"
    }
   }
  },
  {
   "cell_type": "code",
   "execution_count": 9,
   "outputs": [],
   "source": [
    "# Turn dataframe into list of dicts\n",
    "model_features_as_dict = yellow_january_2022_rides[model_features].to_dict(orient='records')"
   ],
   "metadata": {
    "collapsed": false,
    "ExecuteTime": {
     "end_time": "2023-05-15T19:46:17.387897Z",
     "start_time": "2023-05-15T19:46:15.204515Z"
    }
   }
  },
  {
   "cell_type": "code",
   "execution_count": 10,
   "outputs": [],
   "source": [
    "# Fit a dictionary vectorizer\n",
    "dict_vectorizer = DictVectorizer()\n",
    "ohe_features = dict_vectorizer.fit_transform(model_features_as_dict)"
   ],
   "metadata": {
    "collapsed": false,
    "ExecuteTime": {
     "end_time": "2023-05-15T19:46:19.559658Z",
     "start_time": "2023-05-15T19:46:17.462320Z"
    }
   }
  },
  {
   "cell_type": "code",
   "execution_count": 11,
   "outputs": [
    {
     "name": "stdout",
     "output_type": "stream",
     "text": [
      "Feature matrix shape: (2421440, 515)\n"
     ]
    }
   ],
   "source": [
    "print(f'Feature matrix shape: {ohe_features.shape}')"
   ],
   "metadata": {
    "collapsed": false,
    "ExecuteTime": {
     "end_time": "2023-05-15T19:46:19.562377Z",
     "start_time": "2023-05-15T19:46:19.560160Z"
    }
   }
  },
  {
   "cell_type": "markdown",
   "source": [
    "## Q5 - What's the RMSE on train?\n",
    "\n",
    "Now let's use the feature matrix from the previous step to train a model.\n",
    "\n",
    "Train a plain linear regression model with default parameters\n",
    "Calculate the RMSE of the model on the training data"
   ],
   "metadata": {
    "collapsed": false
   }
  },
  {
   "cell_type": "code",
   "execution_count": 12,
   "outputs": [
    {
     "data": {
      "text/plain": "LinearRegression()",
      "text/html": "<style>#sk-container-id-1 {color: black;background-color: white;}#sk-container-id-1 pre{padding: 0;}#sk-container-id-1 div.sk-toggleable {background-color: white;}#sk-container-id-1 label.sk-toggleable__label {cursor: pointer;display: block;width: 100%;margin-bottom: 0;padding: 0.3em;box-sizing: border-box;text-align: center;}#sk-container-id-1 label.sk-toggleable__label-arrow:before {content: \"▸\";float: left;margin-right: 0.25em;color: #696969;}#sk-container-id-1 label.sk-toggleable__label-arrow:hover:before {color: black;}#sk-container-id-1 div.sk-estimator:hover label.sk-toggleable__label-arrow:before {color: black;}#sk-container-id-1 div.sk-toggleable__content {max-height: 0;max-width: 0;overflow: hidden;text-align: left;background-color: #f0f8ff;}#sk-container-id-1 div.sk-toggleable__content pre {margin: 0.2em;color: black;border-radius: 0.25em;background-color: #f0f8ff;}#sk-container-id-1 input.sk-toggleable__control:checked~div.sk-toggleable__content {max-height: 200px;max-width: 100%;overflow: auto;}#sk-container-id-1 input.sk-toggleable__control:checked~label.sk-toggleable__label-arrow:before {content: \"▾\";}#sk-container-id-1 div.sk-estimator input.sk-toggleable__control:checked~label.sk-toggleable__label {background-color: #d4ebff;}#sk-container-id-1 div.sk-label input.sk-toggleable__control:checked~label.sk-toggleable__label {background-color: #d4ebff;}#sk-container-id-1 input.sk-hidden--visually {border: 0;clip: rect(1px 1px 1px 1px);clip: rect(1px, 1px, 1px, 1px);height: 1px;margin: -1px;overflow: hidden;padding: 0;position: absolute;width: 1px;}#sk-container-id-1 div.sk-estimator {font-family: monospace;background-color: #f0f8ff;border: 1px dotted black;border-radius: 0.25em;box-sizing: border-box;margin-bottom: 0.5em;}#sk-container-id-1 div.sk-estimator:hover {background-color: #d4ebff;}#sk-container-id-1 div.sk-parallel-item::after {content: \"\";width: 100%;border-bottom: 1px solid gray;flex-grow: 1;}#sk-container-id-1 div.sk-label:hover label.sk-toggleable__label {background-color: #d4ebff;}#sk-container-id-1 div.sk-serial::before {content: \"\";position: absolute;border-left: 1px solid gray;box-sizing: border-box;top: 0;bottom: 0;left: 50%;z-index: 0;}#sk-container-id-1 div.sk-serial {display: flex;flex-direction: column;align-items: center;background-color: white;padding-right: 0.2em;padding-left: 0.2em;position: relative;}#sk-container-id-1 div.sk-item {position: relative;z-index: 1;}#sk-container-id-1 div.sk-parallel {display: flex;align-items: stretch;justify-content: center;background-color: white;position: relative;}#sk-container-id-1 div.sk-item::before, #sk-container-id-1 div.sk-parallel-item::before {content: \"\";position: absolute;border-left: 1px solid gray;box-sizing: border-box;top: 0;bottom: 0;left: 50%;z-index: -1;}#sk-container-id-1 div.sk-parallel-item {display: flex;flex-direction: column;z-index: 1;position: relative;background-color: white;}#sk-container-id-1 div.sk-parallel-item:first-child::after {align-self: flex-end;width: 50%;}#sk-container-id-1 div.sk-parallel-item:last-child::after {align-self: flex-start;width: 50%;}#sk-container-id-1 div.sk-parallel-item:only-child::after {width: 0;}#sk-container-id-1 div.sk-dashed-wrapped {border: 1px dashed gray;margin: 0 0.4em 0.5em 0.4em;box-sizing: border-box;padding-bottom: 0.4em;background-color: white;}#sk-container-id-1 div.sk-label label {font-family: monospace;font-weight: bold;display: inline-block;line-height: 1.2em;}#sk-container-id-1 div.sk-label-container {text-align: center;}#sk-container-id-1 div.sk-container {/* jupyter's `normalize.less` sets `[hidden] { display: none; }` but bootstrap.min.css set `[hidden] { display: none !important; }` so we also need the `!important` here to be able to override the default hidden behavior on the sphinx rendered scikit-learn.org. See: https://github.com/scikit-learn/scikit-learn/issues/21755 */display: inline-block !important;position: relative;}#sk-container-id-1 div.sk-text-repr-fallback {display: none;}</style><div id=\"sk-container-id-1\" class=\"sk-top-container\"><div class=\"sk-text-repr-fallback\"><pre>LinearRegression()</pre><b>In a Jupyter environment, please rerun this cell to show the HTML representation or trust the notebook. <br />On GitHub, the HTML representation is unable to render, please try loading this page with nbviewer.org.</b></div><div class=\"sk-container\" hidden><div class=\"sk-item\"><div class=\"sk-estimator sk-toggleable\"><input class=\"sk-toggleable__control sk-hidden--visually\" id=\"sk-estimator-id-1\" type=\"checkbox\" checked><label for=\"sk-estimator-id-1\" class=\"sk-toggleable__label sk-toggleable__label-arrow\">LinearRegression</label><div class=\"sk-toggleable__content\"><pre>LinearRegression()</pre></div></div></div></div></div>"
     },
     "execution_count": 12,
     "metadata": {},
     "output_type": "execute_result"
    }
   ],
   "source": [
    "# Train a linear regression model with default parameters\n",
    "lr_model:LinearRegression = LinearRegression()\n",
    "lr_model.fit(ohe_features, yellow_january_2022_rides.ride_duration)"
   ],
   "metadata": {
    "collapsed": false,
    "ExecuteTime": {
     "end_time": "2023-05-15T19:46:31.317869Z",
     "start_time": "2023-05-15T19:46:19.565674Z"
    }
   }
  },
  {
   "cell_type": "code",
   "execution_count": 13,
   "outputs": [],
   "source": [
    "# Evaluate model on training data\n",
    "training_data_predictions = lr_model.predict(ohe_features)"
   ],
   "metadata": {
    "collapsed": false,
    "ExecuteTime": {
     "end_time": "2023-05-15T19:46:31.327366Z",
     "start_time": "2023-05-15T19:46:31.319058Z"
    }
   }
  },
  {
   "cell_type": "code",
   "execution_count": 14,
   "outputs": [
    {
     "name": "stdout",
     "output_type": "stream",
     "text": [
      "The RMSE error for the model is 6.986190814952337\n"
     ]
    }
   ],
   "source": [
    "rmse_error = math.sqrt(mean_squared_error(yellow_january_2022_rides.ride_duration, training_data_predictions))\n",
    "print(f'The RMSE error for the model is {rmse_error}')"
   ],
   "metadata": {
    "collapsed": false,
    "ExecuteTime": {
     "end_time": "2023-05-15T19:46:31.334297Z",
     "start_time": "2023-05-15T19:46:31.328506Z"
    }
   }
  },
  {
   "cell_type": "markdown",
   "source": [
    "## Q6 - What's the RMSE on validation?\n",
    "\n",
    "Now let's apply this model to the validation dataset (February 2022)."
   ],
   "metadata": {
    "collapsed": false
   }
  },
  {
   "cell_type": "code",
   "execution_count": null,
   "outputs": [],
   "source": [
    "# Apply the same processing to the validation dataset and get the features based on the previous dict vectorizer\n",
    "# TODO: Refactoring for generalization\n",
    "yellow_february_2022_rides = pd.read_parquet(\"./data/yellow_tripdata_2022-02.parquet\")\n",
    "yellow_february_2022_rides_features = yellow_february_2022_rides[model_features].to_dict(orient='records')\n",
    "ohe_validation_features = dict_vectorizer.transform(yellow_february_2022_rides_features)\n",
    "validation_predictions = lr_model.predict(ohe_validation_features)\n",
    "rmse_error = math.sqrt(mean_squared_error(yellow_january_2022_rides.ride_duration, validation_predictions))\n",
    "print(f'The RMSE error for the model is {rmse_error}')"
   ],
   "metadata": {
    "collapsed": false
   }
  }
 ],
 "metadata": {
  "kernelspec": {
   "display_name": "Python 3",
   "language": "python",
   "name": "python3"
  },
  "language_info": {
   "codemirror_mode": {
    "name": "ipython",
    "version": 2
   },
   "file_extension": ".py",
   "mimetype": "text/x-python",
   "name": "python",
   "nbconvert_exporter": "python",
   "pygments_lexer": "ipython2",
   "version": "2.7.6"
  }
 },
 "nbformat": 4,
 "nbformat_minor": 0
}
